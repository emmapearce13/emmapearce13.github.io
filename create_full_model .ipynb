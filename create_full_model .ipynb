{
 "cells": [
  {
   "cell_type": "code",
   "execution_count": 3,
   "metadata": {
    "collapsed": false
   },
   "outputs": [
    {
     "data": {
      "text/plain": [
       "<matplotlib.image.AxesImage at 0xa5eee80>"
      ]
     },
     "execution_count": 3,
     "metadata": {},
     "output_type": "execute_result"
    },
    {
     "data": {
      "image/png": "[encoded data removed]",
      "text/plain": [
       "<matplotlib.figure.Figure at 0xa4637f0>"
      ]
     },
     "metadata": {},
     "output_type": "display_data"
    }
   ],
   "source": [
    "from numpy import *\n",
    "import numpy as np\n",
    "%matplotlib inline\n",
    "import matplotlib.pyplot as plt\n",
    "import matplotlib.image as mpimg\n",
    "from matplotlib.patches import Circle\n",
    "lx = 3000 #m depth  \n",
    "ly = 10000 #m length \n",
    "dx = 50   # grid spacing\n",
    "\n",
    "def create_test_model(lx,ly,dx,water_depth):\n",
    "\n",
    "#INITIALISING VALUES NOT TAKEN IN \n",
    "    size = (int(lx/(dx)), int(ly/(dx)))   # array can only be whole numbers took away the +1 \n",
    "    model = np.ones(size) \n",
    "    sf_grid_depth = water_depth/dx  # puts depth of sea floor into grid spacing defined by dx\n",
    "    max_v= 3000. # m/s  velocity at bottom of sea bed \n",
    "    seabed_v = 1700. # m/s velocity at top of seabed \n",
    "    water_v = 1500. #m/s water velocity \n",
    "    m = (max_v-seabed_v)/(size[0]-(water_depth/dx))  # velocity gradient of seabed \n",
    "\n",
    "#SET VELOCITY OF SEABED (uses velocity gradient m)\n",
    "    for i in range (sf_grid_depth,size[0],1):\n",
    "        for j in range(0,size[1],1): \n",
    "            model[i][j] = (m*i) + seabed_v\n",
    "\n",
    "#SET VELOCITY OF WATER \n",
    "    for i in range(0,sf_grid_depth,1):\n",
    "       for j in range(0,size[1],1):\n",
    "          model[i][j] = 1500\n",
    "\n",
    "    baseplot = plt.imshow(model) \n",
    "    return baseplot   \n",
    "#print model    \n",
    " \n",
    "    \n",
    "create_test_model(3000,10000,50,300)\n"
   ]
  },
  {
   "cell_type": "code",
   "execution_count": null,
   "metadata": {
    "collapsed": true
   },
   "outputs": [],
   "source": []
  }
 ],
 "metadata": {
  "kernelspec": {
   "display_name": "Python 2",
   "language": "python",
   "name": "python2"
  },
  "language_info": {
   "codemirror_mode": {
    "name": "ipython",
    "version": 2
   },
   "file_extension": ".py",
   "mimetype": "text/x-python",
   "name": "python",
   "nbconvert_exporter": "python",
   "pygments_lexer": "ipython2",
   "version": "2.7.9"
  }
 },
 "nbformat": 4,
 "nbformat_minor": 0
}
